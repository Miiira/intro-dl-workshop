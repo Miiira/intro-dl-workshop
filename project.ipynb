{
 "cells": [
  {
   "cell_type": "markdown",
   "metadata": {},
   "source": [
    "# Dog vs. Cat with Neural Networks\n",
    "#### By Phillip Kuznetsov \n",
    "_philkuz [at] ml.berkeley.edu_\n",
    "\n",
    "In this notebook, you will be tasked with classifying whether an image contains a dog or a cat. I've given , but at the end of the day you will be doing most of the work yourself. \n",
    "\n",
    "Because you're dealing with image data and potentially large CNNs - your best bet is to try this out on a gpu. Luckily for you ML@B has written a [nice guide on how to set up an AWS server for Deep Learning](https://github.com/mlberkeley/resources-guides/tree/master/AWS). \n",
    "\n",
    "An alternative is to use google colab - which alleviates a lot of issues with GPU setup with the exception of getting the data on the machine. [This example notebook](https://colab.research.google.com/notebook#fileId=/v2/external/notebooks/io.ipynb&scrollTo=BaCkyg5CV5jF) has a few ways to do it, the easiest in my mind is to follow the \"upload_files()\" cell which just has you directly upload from your file system.\n",
    "\n",
    "As a note you need to download the data from this kaggle competition: https://www.kaggle.com/c/dogs-vs-cats\n",
    "\n",
    "You'll have to sign in/up for kaggle, but fortunately it's free! \n",
    "Then you'll have to unzip the file, rename it to `data`, and move it to the same directory. From there you can run the rest of the code! \n",
    "\n",
    "Best of luck! If you encounter any bugs, please open an issue in the [issue tracker](https://github.com/mlberkeley/intro-dl-workshop/issues)! "
   ]
  },
  {
   "cell_type": "code",
   "execution_count": null,
   "metadata": {
    "collapsed": true
   },
   "outputs": [],
   "source": [
    "%matplotlib inline"
   ]
  },
  {
   "cell_type": "code",
   "execution_count": null,
   "metadata": {
    "collapsed": true
   },
   "outputs": [],
   "source": [
    "!pip install keras pillow h5py"
   ]
  },
  {
   "cell_type": "code",
   "execution_count": 5,
   "metadata": {},
   "outputs": [
    {
     "name": "stderr",
     "output_type": "stream",
     "text": [
      "/Users/philkuz/.virtualenvs/tf/lib/python3.5/site-packages/h5py/__init__.py:36: FutureWarning: Conversion of the second argument of issubdtype from `float` to `np.floating` is deprecated. In future, it will be treated as `np.float64 == np.dtype(float).type`.\n",
      "  from ._conv import register_converters as _register_converters\n",
      "Using TensorFlow backend.\n"
     ]
    }
   ],
   "source": [
    "from __future__ import print_function\n",
    "\n",
    "import keras\n",
    "from keras.models import Sequential\n",
    "from keras.layers import Dense, Dropout, Conv2D, MaxPool2D, Flatten\n",
    "from keras.optimizers import SGD,Adam\n",
    "import numpy as np\n",
    "import matplotlib.pyplot as plt\n",
    "import os\n",
    "import shutil"
   ]
  },
  {
   "cell_type": "markdown",
   "metadata": {},
   "source": [
    "prepare the data directory for the keras image generator"
   ]
  },
  {
   "cell_type": "code",
   "execution_count": 16,
   "metadata": {},
   "outputs": [],
   "source": [
    "!unzip -q train.zip && mv train data"
   ]
  },
  {
   "cell_type": "code",
   "execution_count": 17,
   "metadata": {},
   "outputs": [],
   "source": [
    "data_dir = './data'\n",
    "train_dir = os.path.join(data_dir, 'train')\n",
    "val_dir = os.path.join(data_dir, 'val')\n",
    "val_ratio = 0.2"
   ]
  },
  {
   "cell_type": "markdown",
   "metadata": {},
   "source": [
    "### split data by classes"
   ]
  },
  {
   "cell_type": "code",
   "execution_count": 18,
   "metadata": {
    "collapsed": true
   },
   "outputs": [],
   "source": [
    "classes = ['dog', 'cat']\n",
    "# split by classes\n",
    "for c in classes:\n",
    "    class_dir = os.path.join(data_dir, c)\n",
    "    if not os.path.exists(class_dir):\n",
    "        os.mkdir(class_dir)\n",
    "    for fname in os.listdir(data_dir):\n",
    "        fpath = os.path.join(data_dir, fname)\n",
    "        if not os.path.isdir(fpath) and c in fname:\n",
    "            os.rename(fpath, os.path.join(class_dir, fname))\n",
    "\n",
    "        "
   ]
  },
  {
   "cell_type": "markdown",
   "metadata": {},
   "source": [
    "### Make train/val splits of data\n",
    "This is just data preparation that works nicely with Keras' data loader api. If you're not familiar with what's going on that's ok"
   ]
  },
  {
   "cell_type": "code",
   "execution_count": 19,
   "metadata": {
    "collapsed": true
   },
   "outputs": [],
   "source": [
    "from random import shuffle"
   ]
  },
  {
   "cell_type": "code",
   "execution_count": 20,
   "metadata": {},
   "outputs": [],
   "source": [
    "for d in [train_dir, val_dir]:\n",
    "    if not os.path.exists(d):\n",
    "        os.mkdir(d)\n",
    "        os.mkdir(os.path.join(d, 'dog'))\n",
    "        os.mkdir(os.path.join(d, 'cat'))\n",
    "    \n",
    "for c in classes:\n",
    "    class_dir = os.path.join(data_dir, c)\n",
    "    class_train_dir = os.path.join(train_dir,c)\n",
    "    class_val_dir = os.path.join(val_dir,c)\n",
    "    files = os.listdir(class_dir)\n",
    "    shuffle(files)\n",
    "    cutoff_idx = int(len(files)* ( 1-val_ratio))\n",
    "    train_files = files[:cutoff_idx]\n",
    "    val_files = files[cutoff_idx:]\n",
    "    for f in train_files:\n",
    "        fpath = os.path.join(class_dir, f)\n",
    "        if not os.path.isdir(fpath):\n",
    "            os.rename(fpath, os.path.join(class_train_dir, f))\n",
    "    for f in val_files:\n",
    "        fpath = os.path.join(class_dir, f)\n",
    "        if not os.path.isdir(fpath):\n",
    "            os.rename(fpath, os.path.join(class_val_dir, f))\n",
    "    \n",
    "    os.removedirs(class_dir)\n"
   ]
  },
  {
   "cell_type": "code",
   "execution_count": null,
   "metadata": {
    "collapsed": true
   },
   "outputs": [],
   "source": [
    "for c in classes:\n",
    "    class_dir = os.path.join(data)\n",
    "    if os.path.exists(class_dir)\n",
    "    "
   ]
  },
  {
   "cell_type": "code",
   "execution_count": null,
   "metadata": {
    "collapsed": true,
    "scrolled": true
   },
   "outputs": [],
   "source": [
    "from keras.preprocessing.image import ImageDataGenerator\n",
    "generator = ImageDataGenerator()\n",
    "train_data = generator.flow_from_directory(train_dir,\n",
    "                shuffle=True,\n",
    "                batch_size=batch_size,\n",
    "                target_size=(224,224))\n",
    "val_data = generator.flow_from_directory(val_dir, \n",
    "                shuffle=True,\n",
    "                batch_size=batch_size,\n",
    "                target_size=(224,224))"
   ]
  },
  {
   "cell_type": "markdown",
   "metadata": {},
   "source": [
    "### hyperparameters"
   ]
  },
  {
   "cell_type": "code",
   "execution_count": null,
   "metadata": {
    "collapsed": true
   },
   "outputs": [],
   "source": [
    "\n",
    "batch_size=32\n",
    "learning_rate=1e-4"
   ]
  },
  {
   "cell_type": "code",
   "execution_count": null,
   "metadata": {
    "collapsed": true
   },
   "outputs": [],
   "source": [
    "# from keras.applications import VGG16"
   ]
  },
  {
   "cell_type": "code",
   "execution_count": null,
   "metadata": {
    "collapsed": true
   },
   "outputs": [],
   "source": [
    "model = Sequential()\n",
    "### You can use the layers in VGG16 (a pretrained network) if you want\n",
    "### It'll probably train faster.\n",
    "### Make sure that you uncomment and run the import above\n",
    "model.add(VGG16(weights='imagenet', include_top=False,input_shape=(224,224,3))) \n",
    "model.add(Flatten()) # you must use this layer\n",
    "\n",
    "# TODO add layers of the model\n",
    "model.add(Dense(2, activation='softmax'))\n"
   ]
  },
  {
   "cell_type": "code",
   "execution_count": null,
   "metadata": {
    "collapsed": true
   },
   "outputs": [],
   "source": [
    "# TODO compile the model with an ADAM optimizer (or whatever you choose) and the proper loss fn"
   ]
  },
  {
   "cell_type": "code",
   "execution_count": null,
   "metadata": {
    "collapsed": true
   },
   "outputs": [],
   "source": [
    "model.summary()"
   ]
  },
  {
   "cell_type": "code",
   "execution_count": null,
   "metadata": {
    "collapsed": true
   },
   "outputs": [],
   "source": [
    "# this is how you traine\n",
    "model.fit_generator(train_data, steps_per_epoch=20000/batch_size, epochs=25, validation_steps=800, validation_data=val_data)"
   ]
  },
  {
   "cell_type": "code",
   "execution_count": null,
   "metadata": {
    "collapsed": true
   },
   "outputs": [],
   "source": [
    "# fit the fancy model \n",
    "score = model.evaluate(x_test, y_test, verbose=0)\n",
    "print('Test loss:', score[0])\n",
    "print('Test accuracy:', score[1])"
   ]
  }
 ],
 "metadata": {
  "kernelspec": {
   "display_name": "Python 3",
   "language": "python",
   "name": "python3"
  },
  "language_info": {
   "codemirror_mode": {
    "name": "ipython",
    "version": 3
   },
   "file_extension": ".py",
   "mimetype": "text/x-python",
   "name": "python",
   "nbconvert_exporter": "python",
   "pygments_lexer": "ipython3",
   "version": "3.5.0"
  }
 },
 "nbformat": 4,
 "nbformat_minor": 2
}
